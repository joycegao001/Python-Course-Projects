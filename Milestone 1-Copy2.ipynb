{
 "cells": [
  {
   "cell_type": "markdown",
   "metadata": {},
   "source": [
    "# Milestone Project 1: Tic Tac Toe Game"
   ]
  },
  {
   "cell_type": "markdown",
   "metadata": {},
   "source": []
  },
  {
   "cell_type": "markdown",
   "metadata": {},
   "source": [
    "**Step 1: Write a function that can print out a board. Set up your board as a list, where each index 1-9 corresponds with a number on a number pad, so you get a 3 by 3 board representation.**"
   ]
  },
  {
   "cell_type": "code",
   "execution_count": 1,
   "metadata": {},
   "outputs": [],
   "source": [
    "from IPython.display import clear_output\n",
    "\n",
    "def display_board(board):\n",
    "    \n",
    "    clear_output()\n",
    "    print(board[7]+'|'+board[8]+'|'+board[9])\n",
    "    print('------')\n",
    "    print(board[4]+'|'+board[5]+'|'+board[6])\n",
    "    print('------')\n",
    "    print(board[1]+'|'+board[2]+'|'+board[3])"
   ]
  },
  {
   "cell_type": "markdown",
   "metadata": {},
   "source": [
    "**TEST Step 1:** run your function on a test version of the board list, and make adjustments as necessary"
   ]
  },
  {
   "cell_type": "code",
   "execution_count": 2,
   "metadata": {},
   "outputs": [
    {
     "name": "stdout",
     "output_type": "stream",
     "text": [
      "X|O|X\n",
      "------\n",
      "X|X|O\n",
      "------\n",
      "X|O|O\n"
     ]
    }
   ],
   "source": [
    "test_board = ['#','X','O','O','X','X','O','X','O','X']\n",
    "display_board(test_board)"
   ]
  },
  {
   "cell_type": "code",
   "execution_count": 3,
   "metadata": {},
   "outputs": [
    {
     "name": "stdout",
     "output_type": "stream",
     "text": [
      "7|8|9\n",
      "------\n",
      "4|5|6\n",
      "------\n",
      "1|2|3\n"
     ]
    }
   ],
   "source": [
    "number_board = ['#','1','2','3','4','5','6','7','8','9']\n",
    "display_board(number_board)"
   ]
  },
  {
   "cell_type": "markdown",
   "metadata": {},
   "source": [
    "**Step 2: Write a function that can take in a player input and assign their marker as 'X' or 'O'. Think about using *while* loops to continually ask until you get a correct answer.**"
   ]
  },
  {
   "cell_type": "code",
   "execution_count": 4,
   "metadata": {},
   "outputs": [],
   "source": [
    "def player_input():\n",
    "    \n",
    "    user_input = \"False\"\n",
    "    \n",
    "    while user_input not in ['X','O']:\n",
    "        user_input = input(\"Please choose being X or O \")\n",
    "        \n",
    "    player1 = user_input\n",
    "    if player1 == 'X':\n",
    "        player2 = 'O'\n",
    "        print(\"player1 = X, player2 = O\")\n",
    "    else:\n",
    "        player2 = 'X'\n",
    "        print(\"player1 = O, player2 = X\")\n",
    "        \n",
    "    return(player1, player2)\n",
    "    \n"
   ]
  },
  {
   "cell_type": "markdown",
   "metadata": {},
   "source": [
    "**TEST Step 2:** run the function to make sure it returns the desired output"
   ]
  },
  {
   "cell_type": "code",
   "execution_count": null,
   "metadata": {},
   "outputs": [],
   "source": [
    "player1_symbol, player2_symbol = player_input()\n",
    "player1_symbol"
   ]
  },
  {
   "cell_type": "markdown",
   "metadata": {},
   "source": [
    "**Step 3: Write a function that takes in the board list object, a marker ('X' or 'O'), and a desired position (number 1-9) and assigns it to the board.**"
   ]
  },
  {
   "cell_type": "code",
   "execution_count": null,
   "metadata": {},
   "outputs": [],
   "source": [
    "def place_marker(board, marker, position):\n",
    "    \n",
    "    board[position] = marker"
   ]
  },
  {
   "cell_type": "markdown",
   "metadata": {},
   "source": []
  },
  {
   "cell_type": "markdown",
   "metadata": {},
   "source": [
    "**TEST Step 3:** run the place marker function using test parameters and display the modified board"
   ]
  },
  {
   "cell_type": "code",
   "execution_count": null,
   "metadata": {},
   "outputs": [],
   "source": [
    "place_marker(test_board,'$',8)\n",
    "display_board(test_board)"
   ]
  },
  {
   "cell_type": "markdown",
   "metadata": {},
   "source": [
    "**Step 4: Write a function that takes in a board and a mark (X or O) and then checks to see if that mark has won. **"
   ]
  },
  {
   "cell_type": "code",
   "execution_count": null,
   "metadata": {},
   "outputs": [],
   "source": [
    "def win_check(board, mark):\n",
    "    \n",
    "    if (board[1] == board[2] == board[3] == mark) or (board[4] == board[5] == board[6] == mark) or (board[7] == board[8] == board[9] == mark) or (board[1] == board[4] == board[7] == mark) or (board[2] == board[5] == board[8] == mark) or (board[3] == board[6] == board[9] == mark) or (board[1] == board[5] == board[9] == mark) or (board[3] == board[5] == board[7] == mark):\n",
    "        return True"
   ]
  },
  {
   "cell_type": "markdown",
   "metadata": {},
   "source": []
  },
  {
   "cell_type": "code",
   "execution_count": null,
   "metadata": {},
   "outputs": [],
   "source": [
    "test_board"
   ]
  },
  {
   "cell_type": "markdown",
   "metadata": {},
   "source": [
    "**TEST Step 4:** run the win_check function against our test_board - it should return True"
   ]
  },
  {
   "cell_type": "code",
   "execution_count": null,
   "metadata": {},
   "outputs": [],
   "source": [
    "win_check(test_board,'X')"
   ]
  },
  {
   "cell_type": "code",
   "execution_count": null,
   "metadata": {},
   "outputs": [],
   "source": [
    "test_board"
   ]
  },
  {
   "cell_type": "markdown",
   "metadata": {},
   "source": [
    "**Step 5: Write a function that uses the random module to randomly decide which player goes first. You may want to lookup random.randint() Return a string of which player went first.**"
   ]
  },
  {
   "cell_type": "code",
   "execution_count": null,
   "metadata": {},
   "outputs": [],
   "source": [
    "import random\n",
    "\n",
    "def choose_first():\n",
    "    \n",
    "    player1 = 1\n",
    "    player2 = 2\n",
    "    \n",
    "    first_player = random.randint(1,2)\n",
    "    \n",
    "    if first_player == 1:\n",
    "        return 'player1'\n",
    "    else:\n",
    "        return 'player2'\n",
    "    "
   ]
  },
  {
   "cell_type": "markdown",
   "metadata": {},
   "source": [
    "**Step 6: Write a function that returns a boolean indicating whether a space on the board is freely available.**"
   ]
  },
  {
   "cell_type": "code",
   "execution_count": null,
   "metadata": {},
   "outputs": [],
   "source": [
    "def space_check(board, position):\n",
    "    if board[position] == ' ':\n",
    "        return True\n",
    "    else:\n",
    "        return False"
   ]
  },
  {
   "cell_type": "markdown",
   "metadata": {},
   "source": [
    "**Step 7: Write a function that checks if the board is full and returns a boolean value. True if full, False otherwise.**"
   ]
  },
  {
   "cell_type": "code",
   "execution_count": null,
   "metadata": {},
   "outputs": [],
   "source": [
    "def full_board_check(board):\n",
    "    \n",
    "    for space in range(1,10):\n",
    "        if space_check(board,space) == True:\n",
    "            return False\n",
    "        \n",
    "    return True"
   ]
  },
  {
   "cell_type": "markdown",
   "metadata": {},
   "source": [
    "**Step 8: Write a function that asks for a player's next position (as a number 1-9) and then uses the function from step 6 to check if it's a free position. If it is, then return the position for later use.**"
   ]
  },
  {
   "cell_type": "code",
   "execution_count": null,
   "metadata": {},
   "outputs": [],
   "source": [
    "def player_choice(board):\n",
    "    \n",
    "    player_position = 'NOT PLACED'\n",
    "    \n",
    "    while player_position == 'NOT PLACED':\n",
    "        new_position = int(input('Choose a number between 1-9'))\n",
    "        \n",
    "        if new_position in range(1,10):\n",
    "            if space_check(board,new_position) == True:\n",
    "                return new_position\n",
    "            if space_check(board,new_position) == False:\n",
    "                print(\"The position is taken. Please choose somewhere else.\")\n",
    "                new_position = 'NOT PLACED'"
   ]
  },
  {
   "cell_type": "markdown",
   "metadata": {},
   "source": [
    "**Step 9: Write a function that asks the player if they want to play again and returns a boolean True if they do want to play again.**"
   ]
  },
  {
   "cell_type": "code",
   "execution_count": null,
   "metadata": {},
   "outputs": [],
   "source": [
    "def replay():\n",
    "    if input(\"Want to play again? (type in Yes or No)\").lower().startswith('y'):\n",
    "        return True\n",
    "    else:\n",
    "        print(\"Thanks for playing!\")\n",
    "        return False"
   ]
  },
  {
   "cell_type": "markdown",
   "metadata": {},
   "source": []
  },
  {
   "cell_type": "code",
   "execution_count": null,
   "metadata": {},
   "outputs": [],
   "source": [
    "game_board = [' '] * 10\n",
    "display_board(game_board)"
   ]
  },
  {
   "cell_type": "markdown",
   "metadata": {
    "collapsed": true
   },
   "source": [
    "**Step 10: Here comes the hard part! Use while loops and the functions you've made to run the game!**"
   ]
  },
  {
   "cell_type": "code",
   "execution_count": null,
   "metadata": {},
   "outputs": [],
   "source": [
    "print('Welcome to Tic Tac Toe!')\n",
    "\n",
    "#while True:\n",
    "while True:\n",
    "\n",
    "    # Set the game up here\n",
    "    gameboard = [' '] * 10  \n",
    "    player1_symbol, player2_symbol = player_input()\n",
    "    first_player = choose_first()\n",
    "    print(first_player + 'will go first')\n",
    "    \n",
    "    play_game = input(\"do you want to start playing? Enter Yes or No. \")\n",
    "    \n",
    "    if play_game.lower().startswith('y'):\n",
    "        gameon = True\n",
    "    else:\n",
    "        gameon = False\n",
    "    \n",
    "    \n",
    "    \n",
    "    while gameon == True:\n",
    "            \n",
    "        display_board(gameboard)\n",
    "        \n",
    "        if first_player == 'player1':\n",
    "            \n",
    "            turn = 1\n",
    "            \n",
    "            while turn % 2 != 0:\n",
    "                position = player_choice(gameboard)\n",
    "                place_marker(gameboard, player1_symbol, position)\n",
    "                display_board(gameboard)\n",
    "                turn = turn + 1\n",
    "                \n",
    "                \n",
    "            if full_board_check(gameboard) == True:\n",
    "                print(\"It's a draw!\")\n",
    "                break\n",
    "                    \n",
    "            if win_check(gameboard, player1_symbol) == True:\n",
    "                print(\"Congrats! Player1 have won the game\")\n",
    "                break\n",
    "            \n",
    "            \n",
    "            while turn % 2 == 0:\n",
    "                position = player_choice(gameboard)\n",
    "                place_marker(gameboard, player2_symbol, position)\n",
    "                display_board(gameboard)\n",
    "                turn = turn + 1\n",
    "                    \n",
    "            if full_board_check(gameboard) == True:\n",
    "                print(\"It's a draw!\")\n",
    "                break\n",
    "                \n",
    "            \n",
    "            if win_check(gameboard, player2_symbol) == True:\n",
    "                print(\"Congrats! Player2 have won the game\")\n",
    "                break\n",
    "    \n",
    "        \n",
    "        if first_player == 'player2':\n",
    "            \n",
    "            turn = 1\n",
    "            \n",
    "            while turn % 2 != 0:\n",
    "                position = player_choice(gameboard)\n",
    "                place_marker(gameboard, player2_symbol, position)\n",
    "                display_board(gameboard)\n",
    "                turn = turn + 1\n",
    "                \n",
    "                \n",
    "            if full_board_check(gameboard) == True:\n",
    "                print(\"It's a draw!\")\n",
    "                break\n",
    "                    \n",
    "            if win_check(gameboard, player2_symbol) == True:\n",
    "                print(\"Congrats! Player2 have won the game\")\n",
    "                break\n",
    "                \n",
    "                \n",
    "        \n",
    "            while turn % 2 == 0:\n",
    "                position = player_choice(gameboard)\n",
    "                place_marker(gameboard, player1_symbol, position)\n",
    "                display_board(gameboard)\n",
    "                turn = turn + 1\n",
    "                \n",
    "                    \n",
    "            if full_board_check(gameboard) == True:\n",
    "                print(\"It's a draw!\")\n",
    "                break\n",
    "                \n",
    "            \n",
    "            if win_check(gameboard, player1_symbol) == True:\n",
    "                print(\"Congrats! Player1 have won the game\")\n",
    "                break\n",
    "                \n",
    "    gameon = False\n",
    "        \n",
    "    if not replay():\n",
    "        break"
   ]
  },
  {
   "cell_type": "markdown",
   "metadata": {},
   "source": []
  },
  {
   "cell_type": "markdown",
   "metadata": {
    "collapsed": true
   },
   "source": []
  }
 ],
 "metadata": {
  "kernelspec": {
   "display_name": "Python 3 (ipykernel)",
   "language": "python",
   "name": "python3"
  },
  "language_info": {
   "codemirror_mode": {
    "name": "ipython",
    "version": 3
   },
   "file_extension": ".py",
   "mimetype": "text/x-python",
   "name": "python",
   "nbconvert_exporter": "python",
   "pygments_lexer": "ipython3",
   "version": "3.7.4"
  }
 },
 "nbformat": 4,
 "nbformat_minor": 1
}
